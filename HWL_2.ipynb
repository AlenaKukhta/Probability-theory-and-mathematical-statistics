{
 "cells": [
  {
   "cell_type": "markdown",
   "metadata": {},
   "source": [
    "# Добашняя работа к Уроку 2. Дискретные случайные величины. Закон распределения вероятностей. Биномиальный закон распределения. Распределение Пуассона"
   ]
  },
  {
   "cell_type": "code",
   "execution_count": 1,
   "metadata": {},
   "outputs": [],
   "source": [
    "from math import factorial"
   ]
  },
  {
   "cell_type": "code",
   "execution_count": 2,
   "metadata": {},
   "outputs": [],
   "source": [
    "# сочетание\n",
    "def combinations(n, k):\n",
    "    return int(factorial(n) / (factorial(k) * factorial(n - k)))"
   ]
  },
  {
   "cell_type": "code",
   "execution_count": 3,
   "metadata": {},
   "outputs": [],
   "source": [
    "from math import exp"
   ]
  },
  {
   "cell_type": "markdown",
   "metadata": {},
   "source": [
    "#### 1. Вероятность того, что стрелок попадет в мишень, выстрелив один раз, равна 0.8. Стрелок выстрелил 100 раз. Найдите вероятность того, что стрелок попадет в цель ровно 85 раз."
   ]
  },
  {
   "cell_type": "code",
   "execution_count": 4,
   "metadata": {},
   "outputs": [
    {
     "name": "stdout",
     "output_type": "stream",
     "text": [
      "Вероятность, что стрелок попадет в цель ровно 85 раз = 4.806%\n"
     ]
    }
   ],
   "source": [
    "# Биномиальное распределение. Формула Бернулли\n",
    "n = 100\n",
    "pb = 0.8\n",
    "k = 85\n",
    "q = 1-pb\n",
    "p = combinations(n, k) * (pb ** k) * (q ** (n-k)) \n",
    "print('Вероятность, что стрелок попадет в цель ровно 85 раз = {:.4}%'.format(p*100))"
   ]
  },
  {
   "cell_type": "markdown",
   "metadata": {},
   "source": [
    "#### 2. Вероятность того, что лампочка перегорит в течение первого дня эксплуатации, равна 0.0004. В жилом комплексе после ремонта в один день включили 5000 новых лампочек. Какова вероятность, что ни одна из них не перегорит в первый день? Какова вероятность, что перегорят ровно две?"
   ]
  },
  {
   "cell_type": "code",
   "execution_count": 5,
   "metadata": {},
   "outputs": [
    {
     "name": "stdout",
     "output_type": "stream",
     "text": [
      "Вероятность, что ни одна из новых лампочек не перегорит в первый день = 13.53%\n"
     ]
    }
   ],
   "source": [
    "# Распределение Пуассона\n",
    "n = 5000\n",
    "pb = 0.0004\n",
    "m = 0\n",
    "lamb = pb * n\n",
    "p = ((lamb**m) / factorial(m)) * exp(-lamb) \n",
    "print('Вероятность, что ни одна из новых лампочек не перегорит в первый день = {:.4}%'.format(p*100))"
   ]
  },
  {
   "cell_type": "markdown",
   "metadata": {},
   "source": [
    "#### 3. Монету подбросили 144 раза. Какова вероятность, что орел выпадет ровно 70 раз?"
   ]
  },
  {
   "cell_type": "code",
   "execution_count": 6,
   "metadata": {},
   "outputs": [
    {
     "name": "stdout",
     "output_type": "stream",
     "text": [
      "Вероятность, что орел выпадет ровно 70 раз = 6.281%\n"
     ]
    }
   ],
   "source": [
    "# Биномиальное распределение. Формула Бернулли\n",
    "n = 144\n",
    "pb = 0.5\n",
    "k = 70\n",
    "q = 1-pb\n",
    "p = combinations(n, k) * (pb ** k) * (q ** (n-k)) \n",
    "print('Вероятность, что орел выпадет ровно 70 раз = {:.4}%'.format(p*100))"
   ]
  },
  {
   "cell_type": "markdown",
   "metadata": {},
   "source": [
    "#### 4. В первом ящике находится 10 мячей, из которых 7 - белые. Во втором ящике - 11 мячей, из которых 9 белых. Из каждого ящика вытаскивают случайным образом по два мяча. Какова вероятность того, что все мячи белые? Какова вероятность того, что ровно два мяча белые? Какова вероятность того, что хотя бы один мяч белый?"
   ]
  },
  {
   "cell_type": "code",
   "execution_count": 7,
   "metadata": {},
   "outputs": [
    {
     "name": "stdout",
     "output_type": "stream",
     "text": [
      "Вероятность, что все мячи белые = 30.55%\n"
     ]
    }
   ],
   "source": [
    "p = combinations(7, 2) / combinations(10, 2) * combinations(9, 2) / combinations(11, 2)\n",
    "\n",
    "print('Вероятность, что все мячи белые = {:.4}%'.format(p*100))"
   ]
  },
  {
   "cell_type": "code",
   "execution_count": 8,
   "metadata": {},
   "outputs": [
    {
     "name": "stdout",
     "output_type": "stream",
     "text": [
      "Вероятность, что все мячи белые = 30.55%\n"
     ]
    }
   ],
   "source": [
    "p_box1_ball2 = 7/10 * 6/9\n",
    "p_box2_ball2 = 9/11 * 8/10\n",
    "p = p_box1_ball2 * p_box2_ball2\n",
    "\n",
    "print('Вероятность, что все мячи белые = {:.4}%'.format(p*100))"
   ]
  },
  {
   "cell_type": "code",
   "execution_count": 9,
   "metadata": {},
   "outputs": [
    {
     "name": "stdout",
     "output_type": "stream",
     "text": [
      "Вероятность, что ровно 2 мяча белые = 20.48%\n"
     ]
    }
   ],
   "source": [
    "# из 1 ящика 2 белых мяча и из 2 ящика 0 белых мячей\n",
    "p1 = combinations(7, 2) / combinations(10, 2) * combinations(2, 2) / combinations(11, 2)\n",
    "\n",
    "# из 1 ящика 1 белых мяча и из 2 ящика 1 белых мячей\n",
    "p2 = combinations(7, 1) * combinations(3, 1) / combinations(10, 2) * combinations(9, 1) * combinations(2, 1) / combinations(11, 2)\n",
    "\n",
    "# из 1 ящика 0 белых мяча и из 2 ящика 2 белых мячей\n",
    "p3 = combinations(3, 2) / combinations(10, 2) * combinations(9, 2) / combinations(11, 2)\n",
    "\n",
    "p = p1 + p2 + p3\n",
    "\n",
    "print('Вероятность, что ровно 2 мяча белые = {:.4}%'.format(p*100))"
   ]
  },
  {
   "cell_type": "code",
   "execution_count": 10,
   "metadata": {},
   "outputs": [
    {
     "name": "stdout",
     "output_type": "stream",
     "text": [
      "Вероятность, что ровно 2 мяча белые = 20.48%\n"
     ]
    }
   ],
   "source": [
    "# из 1 ящика 2 белых мяча и из 2 ящика 0 белых мячей\n",
    "p1 = 7/10 * 6/9 * 2/11 * 1/10\n",
    "\n",
    "# из 1 ящика 1 белых мяча и из 2 ящика 1 белых мячей\n",
    "p2 = (7/10 * 3/9 + 3/10 * 7/9) * (9/11 * 2/10 + 2/11 * 9/10)\n",
    "\n",
    "# из 1 ящика 0 белых мяча и из 2 ящика 2 белых мячей\n",
    "p3 = 3/10 * 2/9 * 9/11 * 8/10\n",
    "\n",
    "p = p1 + p2 + p3\n",
    "\n",
    "print('Вероятность, что ровно 2 мяча белые = {:.4}%'.format(p*100))"
   ]
  },
  {
   "cell_type": "code",
   "execution_count": 11,
   "metadata": {},
   "outputs": [
    {
     "name": "stdout",
     "output_type": "stream",
     "text": [
      "Вероятность, что хотя бы один мяч белый = 99.88%\n"
     ]
    }
   ],
   "source": [
    "p = 1 - combinations(3, 2) / combinations(10, 2) * combinations(2, 2) / combinations(11, 2)\n",
    "print('Вероятность, что хотя бы один мяч белый = {:.4}%'.format(p*100))"
   ]
  },
  {
   "cell_type": "code",
   "execution_count": 12,
   "metadata": {},
   "outputs": [
    {
     "name": "stdout",
     "output_type": "stream",
     "text": [
      "Вероятность, что хотя бы один мяч белый = 99.88%\n"
     ]
    }
   ],
   "source": [
    "p = 1 - 3/10 * 2/9 * 2/11 * 1/10\n",
    "print('Вероятность, что хотя бы один мяч белый = {:.4}%'.format(p*100))"
   ]
  }
 ],
 "metadata": {
  "kernelspec": {
   "display_name": "Python 3",
   "language": "python",
   "name": "python3"
  },
  "language_info": {
   "codemirror_mode": {
    "name": "ipython",
    "version": 3
   },
   "file_extension": ".py",
   "mimetype": "text/x-python",
   "name": "python",
   "nbconvert_exporter": "python",
   "pygments_lexer": "ipython3",
   "version": "3.8.5"
  }
 },
 "nbformat": 4,
 "nbformat_minor": 4
}
